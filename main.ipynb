{
 "cells": [
  {
   "cell_type": "code",
   "execution_count": null,
   "metadata": {},
   "outputs": [],
   "source": [
    "import os\n",
    "import csv"
   ]
  },
  {
   "cell_type": "code",
   "execution_count": 2,
   "metadata": {},
   "outputs": [],
   "source": [
    "csvpath = os.path.join(\"..\", \"PyBank\", \"budget_data.csv\")"
   ]
  },
  {
   "cell_type": "code",
   "execution_count": 3,
   "metadata": {},
   "outputs": [],
   "source": [
    "profit_loss_per_month = []\n",
    "months = []"
   ]
  },
  {
   "cell_type": "code",
   "execution_count": 4,
   "metadata": {},
   "outputs": [],
   "source": [
    "with open(csvpath, \"rt\", newline='\\n') as csvfile:\n",
    "    csvreader = csv.reader(csvfile, delimiter=\",\")\n",
    "    csv_header = next(csvreader)\n",
    "    \n",
    "    for row in csvreader:\n",
    "        months.append(row[0])\n",
    "        profit_loss_per_month.append(row[1])"
   ]
  },
  {
   "cell_type": "code",
   "execution_count": 5,
   "metadata": {},
   "outputs": [],
   "source": [
    "total_months = len(months)"
   ]
  },
  {
   "cell_type": "code",
   "execution_count": 6,
   "metadata": {},
   "outputs": [],
   "source": [
    "profit_loss_per_month = list(map(int,profit_loss_per_month))\n",
    "total_profit_loss = sum(profit_loss_per_month)"
   ]
  },
  {
   "cell_type": "code",
   "execution_count": 7,
   "metadata": {},
   "outputs": [],
   "source": [
    "profit_loss_change_per_month = {}"
   ]
  },
  {
   "cell_type": "code",
   "execution_count": 8,
   "metadata": {},
   "outputs": [],
   "source": [
    "for numbers in range(len(profit_loss_per_month)-1):\n",
    "    profit_loss_change_per_month[months[numbers+1]] = (profit_loss_per_month[numbers +1 ] - profit_loss_per_month[numbers]) "
   ]
  },
  {
   "cell_type": "code",
   "execution_count": 9,
   "metadata": {},
   "outputs": [],
   "source": [
    "avg_profit_loss_change_per_month = round(sum(profit_loss_change_per_month.values())/len(profit_loss_change_per_month),2)"
   ]
  },
  {
   "cell_type": "code",
   "execution_count": 15,
   "metadata": {},
   "outputs": [],
   "source": [
    "minimum = (\"greatest_decrease_in_profits\", 0)\n",
    "maximum = (\"greatest_decrease_in_profits\", 0)\n",
    "\n",
    "for x in profit_loss_change_per_month.items():\n",
    "    if x[1] < minimum[1]:\n",
    "        minimum = x\n",
    "    if x[1] > maximum[1]:\n",
    "        maximum = x\n",
    "        \n",
    "greatest_increase_in_profits = maximum\n",
    "greatest_decrease_in_profits = minimum"
   ]
  },
  {
   "cell_type": "code",
   "execution_count": 18,
   "metadata": {},
   "outputs": [
    {
     "name": "stdout",
     "output_type": "stream",
     "text": [
      "Financial Analysis\n",
      "------------------------\n",
      "Total Months: 86\n",
      "Total Profit: $38382578\n",
      "Average Change: $-2315.12\n",
      "Greatest Increase in Profits: ($('Feb-2012', 1926159))\n",
      "Great Decrease in Profits: ($('Sep-2013', -2196167))\n"
     ]
    }
   ],
   "source": [
    "print (\"Financial Analysis\")\n",
    "print (\"------------------------\")\n",
    "print(f\"Total Months: {total_months}\")\n",
    "print(f\"Total Profit: ${total_profit_loss}\")\n",
    "print(f\"Average Change: ${avg_profit_loss_change_per_month}\")\n",
    "print(f\"Greatest Increase in Profits: (${greatest_increase_in_profits})\")\n",
    "print(f\"Great Decrease in Profits: (${greatest_decrease_in_profits})\")"
   ]
  },
  {
   "cell_type": "code",
   "execution_count": 19,
   "metadata": {},
   "outputs": [],
   "source": [
    "Financial_Analysis = \"Financial_Analysis.txt\"\n",
    "with open (Financial_Analysis, 'w') as file:\n",
    "    file.write(f\"Financial Analysis\"'\\n')\n",
    "    file.write(\"-------------------------\"'\\n')\n",
    "    file.write(f\"Total Months: {total_months}\"'\\n')\n",
    "    file.write(f\"Total Proft: ${total_profit_loss}\"'\\n')\n",
    "    file.write(f\"Average Change: ${avg_profit_loss_change_per_month}\"'\\n')\n",
    "    file.write(f\"The Greatest Increase in Profits: ({greatest_increase_in_profits})\"'\\n')\n",
    "    file.write(f\"The Greatest Decrease in Profits: ({greatest_decrease_in_profits})\")"
   ]
  },
  {
   "cell_type": "code",
   "execution_count": null,
   "metadata": {},
   "outputs": [],
   "source": []
  }
 ],
 "metadata": {
  "kernelspec": {
   "display_name": "Python 3",
   "language": "python",
   "name": "python3"
  },
  "language_info": {
   "codemirror_mode": {
    "name": "ipython",
    "version": 3
   },
   "file_extension": ".py",
   "mimetype": "text/x-python",
   "name": "python",
   "nbconvert_exporter": "python",
   "pygments_lexer": "ipython3",
   "version": "3.7.6"
  }
 },
 "nbformat": 4,
 "nbformat_minor": 4
}
